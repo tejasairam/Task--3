{
 "cells": [
  {
   "cell_type": "code",
   "execution_count": 1,
   "id": "43013b54",
   "metadata": {},
   "outputs": [
    {
     "name": "stdout",
     "output_type": "stream",
     "text": [
      "Defaulting to user installation because normal site-packages is not writeable\n",
      "Note: you may need to restart the kernel to use updated packages.\n"
     ]
    },
    {
     "name": "stderr",
     "output_type": "stream",
     "text": [
      "ERROR: Could not find a version that satisfies the requirement python3-tkinter (from versions: none)\n",
      "ERROR: No matching distribution found for python3-tkinter\n"
     ]
    }
   ],
   "source": [
    "pip install python3-tkinter"
   ]
  },
  {
   "cell_type": "code",
   "execution_count": null,
   "id": "5f1b1376",
   "metadata": {},
   "outputs": [],
   "source": [
    "import tkinter as tk\n",
    "import requests\n",
    "\n",
    "# Function to fetch weather data\n",
    "def get_weather():\n",
    "    api_key = '0c5a1d3c531da54a3d9bde88540cf84f'  # Replace with your OpenWeatherMap API key\n",
    "    city = city_entry.get()\n",
    "    url = f'http://api.openweathermap.org/data/2.5/weather?q={city}&appid={api_key}'\n",
    "    response = requests.get(url)\n",
    "    data = response.json()\n",
    "\n",
    "    if data['cod'] == 200:\n",
    "        weather_desc = data['weather'][0]['description'].capitalize()\n",
    "        temp = data['main']['temp'] - 273.15  # Convert temperature to Celsius\n",
    "        result_label.config(text=f'Weather: {weather_desc}\\nTemperature: {temp:.2f}°C')\n",
    "    else:\n",
    "        result_label.config(text='City not found.')\n",
    "\n",
    "# Create the main window\n",
    "app = tk.Tk()\n",
    "app.title('Weather App')\n",
    "\n",
    "# Create and configure widgets\n",
    "city_label = tk.Label(app, text='Enter city:')\n",
    "city_entry = tk.Entry(app)\n",
    "get_weather_button = tk.Button(app, text='Get Weather', command=get_weather)\n",
    "result_label = tk.Label(app, text='')\n",
    "\n",
    "# Place widgets on the window\n",
    "city_label.pack()\n",
    "city_entry.pack()\n",
    "get_weather_button.pack()\n",
    "result_label.pack()\n",
    "\n",
    "app.mainloop()\n"
   ]
  },
  {
   "cell_type": "code",
   "execution_count": null,
   "id": "5293a3a8",
   "metadata": {},
   "outputs": [],
   "source": []
  }
 ],
 "metadata": {
  "kernelspec": {
   "display_name": "Python 3 (ipykernel)",
   "language": "python",
   "name": "python3"
  },
  "language_info": {
   "codemirror_mode": {
    "name": "ipython",
    "version": 3
   },
   "file_extension": ".py",
   "mimetype": "text/x-python",
   "name": "python",
   "nbconvert_exporter": "python",
   "pygments_lexer": "ipython3",
   "version": "3.10.9"
  }
 },
 "nbformat": 4,
 "nbformat_minor": 5
}
